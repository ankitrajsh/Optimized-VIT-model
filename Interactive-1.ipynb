{
 "cells": [
  {
   "cell_type": "markdown",
   "metadata": {},
   "source": [
    "_Connecting to ANKITRAJSH2 (Python 3.12.8)..._"
   ]
  },
  {
   "cell_type": "code",
   "execution_count": null,
   "id": "dca791d9-cb2c-481c-b7fa-92bf4978fbe2",
   "metadata": {},
   "outputs": [],
   "source": [
    "import math\n",
    "import torch\n",
    "from torch import nn"
   ]
  }
 ],
 "metadata": {
  "kernelspec": {
   "display_name": "ANKITRAJSH2",
   "language": "python",
   "name": "python3"
  },
  "language_info": {
   "name": "python",
   "version": "3.12.8"
  }
 },
 "nbformat": 4,
 "nbformat_minor": 2
}
